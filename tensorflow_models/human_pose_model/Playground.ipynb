{
 "cells": [
  {
   "cell_type": "code",
   "execution_count": 1,
   "metadata": {
    "collapsed": true
   },
   "outputs": [],
   "source": [
    "import tensorflow as tf"
   ]
  },
  {
   "cell_type": "code",
   "execution_count": 2,
   "metadata": {
    "collapsed": false
   },
   "outputs": [
    {
     "name": "stdout",
     "output_type": "stream",
     "text": [
      "Tensor(\"LinSpace:0\", shape=(100,), dtype=float32)\n"
     ]
    }
   ],
   "source": [
    "## linspace exists in tf\n",
    "x = tf.linspace(-3.0,3.0,100)\n",
    "print(x)"
   ]
  },
  {
   "cell_type": "markdown",
   "metadata": {},
   "source": [
    "The name of it is \"LinSpace:0\". Wherever we see this colon 0, that just means the output of. So the name of this Tensor is saying, the output of LinSpace.\n",
    "Notice that unlike to numpy no values are printerd here. Instead this is merely a pointer to the ouput of a tf.Operation which has now been added to Tensorflow's default computational graph.\n",
    "\n",
    "The result of this operation is the tensor that we are returned.\n",
    "\n",
    "We can inspect the default graph by,"
   ]
  },
  {
   "cell_type": "code",
   "execution_count": 3,
   "metadata": {
    "collapsed": true
   },
   "outputs": [],
   "source": [
    "# Here we are taking a copy of the default graph\n",
    "g = tf.get_default_graph()"
   ]
  },
  {
   "cell_type": "code",
   "execution_count": 4,
   "metadata": {
    "collapsed": false
   },
   "outputs": [
    {
     "data": {
      "text/plain": [
       "[u'LinSpace/start', u'LinSpace/stop', u'LinSpace/num', u'LinSpace']"
      ]
     },
     "execution_count": 4,
     "metadata": {},
     "output_type": "execute_result"
    }
   ],
   "source": [
    "# any operations or tensor can always be obtained from this graph\n",
    "[op.name for op in g.get_operations()]\n"
   ]
  },
  {
   "cell_type": "code",
   "execution_count": 5,
   "metadata": {
    "collapsed": false
   },
   "outputs": [
    {
     "data": {
      "text/plain": [
       "[]"
      ]
     },
     "execution_count": 5,
     "metadata": {},
     "output_type": "execute_result"
    }
   ],
   "source": [
    "g.get_collection(name='LinSpace/start')\n",
    "# TODO read about collections"
   ]
  },
  {
   "cell_type": "markdown",
   "metadata": {},
   "source": [
    "For each operation we have first the parameters for that operation and then the operation which takes all of the parameters and creates an output for the linspace."
   ]
  },
  {
   "cell_type": "markdown",
   "metadata": {},
   "source": [
    "We can think about just like we do in linear algebra,\n",
    "\n",
    "The space of operations forms a dual space for the vector space"
   ]
  },
  {
   "cell_type": "code",
   "execution_count": 6,
   "metadata": {
    "collapsed": false
   },
   "outputs": [
    {
     "data": {
      "text/plain": [
       "<tf.Tensor 'LinSpace:0' shape=(100,) dtype=float32>"
      ]
     },
     "execution_count": 6,
     "metadata": {},
     "output_type": "execute_result"
    }
   ],
   "source": [
    "g.get_tensor_by_name('LinSpace' + ':0')\n"
   ]
  },
  {
   "cell_type": "code",
   "execution_count": 7,
   "metadata": {
    "collapsed": false
   },
   "outputs": [
    {
     "data": {
      "text/plain": [
       "[u'LinSpace/start', u'LinSpace/stop', u'LinSpace/num', u'LinSpace']"
      ]
     },
     "execution_count": 7,
     "metadata": {},
     "output_type": "execute_result"
    }
   ],
   "source": [
    "# We can always reset the graph by\n",
    "[op.name for op in g.get_operations()]"
   ]
  },
  {
   "cell_type": "code",
   "execution_count": 8,
   "metadata": {
    "collapsed": false
   },
   "outputs": [
    {
     "name": "stdout",
     "output_type": "stream",
     "text": [
      "[-3.         -2.939394   -2.87878799 -2.81818175 -2.75757575 -2.69696975\n",
      " -2.63636351 -2.5757575  -2.5151515  -2.4545455  -2.3939395  -2.33333325\n",
      " -2.27272725 -2.21212125 -2.15151501 -2.090909   -2.030303   -1.969697\n",
      " -1.90909088 -1.84848475 -1.78787875 -1.72727275 -1.66666663 -1.6060605\n",
      " -1.5454545  -1.4848485  -1.42424238 -1.36363626 -1.30303025 -1.24242425\n",
      " -1.18181813 -1.12121201 -1.060606   -1.         -0.939394   -0.87878776\n",
      " -0.81818175 -0.75757575 -0.69696951 -0.63636351 -0.5757575  -0.5151515\n",
      " -0.4545455  -0.39393926 -0.33333325 -0.27272725 -0.21212101 -0.15151501\n",
      " -0.090909   -0.030303    0.030303    0.09090924  0.15151525  0.21212125\n",
      "  0.27272749  0.33333349  0.3939395   0.4545455   0.5151515   0.57575774\n",
      "  0.63636374  0.69696975  0.75757599  0.81818199  0.87878799  0.939394    1.\n",
      "  1.060606    1.12121201  1.18181849  1.24242449  1.30303049  1.36363649\n",
      "  1.4242425   1.4848485   1.5454545   1.60606098  1.66666698  1.72727299\n",
      "  1.78787899  1.84848499  1.909091    1.969697    2.030303    2.090909\n",
      "  2.15151548  2.21212149  2.27272749  2.33333349  2.3939395   2.4545455\n",
      "  2.5151515   2.57575798  2.63636398  2.69696999  2.75757599  2.81818199\n",
      "  2.87878799  2.939394    3.        ]\n",
      "[-3.         -2.939394   -2.87878799 -2.81818175 -2.75757575 -2.69696975\n",
      " -2.63636351 -2.5757575  -2.5151515  -2.4545455  -2.3939395  -2.33333325\n",
      " -2.27272725 -2.21212125 -2.15151501 -2.090909   -2.030303   -1.969697\n",
      " -1.90909088 -1.84848475 -1.78787875 -1.72727275 -1.66666663 -1.6060605\n",
      " -1.5454545  -1.4848485  -1.42424238 -1.36363626 -1.30303025 -1.24242425\n",
      " -1.18181813 -1.12121201 -1.060606   -1.         -0.939394   -0.87878776\n",
      " -0.81818175 -0.75757575 -0.69696951 -0.63636351 -0.5757575  -0.5151515\n",
      " -0.4545455  -0.39393926 -0.33333325 -0.27272725 -0.21212101 -0.15151501\n",
      " -0.090909   -0.030303    0.030303    0.09090924  0.15151525  0.21212125\n",
      "  0.27272749  0.33333349  0.3939395   0.4545455   0.5151515   0.57575774\n",
      "  0.63636374  0.69696975  0.75757599  0.81818199  0.87878799  0.939394    1.\n",
      "  1.060606    1.12121201  1.18181849  1.24242449  1.30303049  1.36363649\n",
      "  1.4242425   1.4848485   1.5454545   1.60606098  1.66666698  1.72727299\n",
      "  1.78787899  1.84848499  1.909091    1.969697    2.030303    2.090909\n",
      "  2.15151548  2.21212149  2.27272749  2.33333349  2.3939395   2.4545455\n",
      "  2.5151515   2.57575798  2.63636398  2.69696999  2.75757599  2.81818199\n",
      "  2.87878799  2.939394    3.        ]\n"
     ]
    }
   ],
   "source": [
    "# We're first going to create a session:\n",
    "sess = tf.Session()\n",
    "\n",
    "# Now we tell our session to compute anything we've created in the tensorflow graph.\n",
    "computed_x = sess.run(x)\n",
    "print(computed_x)\n",
    "\n",
    "# Alternatively, we could tell the previous Tensor to evaluate itself using this session:\n",
    "computed_x = x.eval(session=sess)\n",
    "print(computed_x)\n",
    "\n",
    "# We can close the session after we're done like so:\n",
    "sess.close()"
   ]
  },
  {
   "cell_type": "code",
   "execution_count": 9,
   "metadata": {
    "collapsed": true
   },
   "outputs": [],
   "source": [
    "# Tells the session which graph we want to manage\n",
    "sess = tf.Session(graph=g)\n",
    "sess.close()"
   ]
  },
  {
   "cell_type": "markdown",
   "metadata": {},
   "source": [
    "Just create a new graph to be explicit"
   ]
  },
  {
   "cell_type": "code",
   "execution_count": 10,
   "metadata": {
    "collapsed": false
   },
   "outputs": [
    {
     "data": {
      "text/plain": [
       "array([-3.        , -2.939394  , -2.87878799, -2.81818175, -2.75757575,\n",
       "       -2.69696975, -2.63636351, -2.5757575 , -2.5151515 , -2.4545455 ,\n",
       "       -2.3939395 , -2.33333325, -2.27272725, -2.21212125, -2.15151501,\n",
       "       -2.090909  , -2.030303  , -1.969697  , -1.90909088, -1.84848475,\n",
       "       -1.78787875, -1.72727275, -1.66666663, -1.6060605 , -1.5454545 ,\n",
       "       -1.4848485 , -1.42424238, -1.36363626, -1.30303025, -1.24242425,\n",
       "       -1.18181813, -1.12121201, -1.060606  , -1.        , -0.939394  ,\n",
       "       -0.87878776, -0.81818175, -0.75757575, -0.69696951, -0.63636351,\n",
       "       -0.5757575 , -0.5151515 , -0.4545455 , -0.39393926, -0.33333325,\n",
       "       -0.27272725, -0.21212101, -0.15151501, -0.090909  , -0.030303  ,\n",
       "        0.030303  ,  0.09090924,  0.15151525,  0.21212125,  0.27272749,\n",
       "        0.33333349,  0.3939395 ,  0.4545455 ,  0.5151515 ,  0.57575774,\n",
       "        0.63636374,  0.69696975,  0.75757599,  0.81818199,  0.87878799,\n",
       "        0.939394  ,  1.        ,  1.060606  ,  1.12121201,  1.18181849,\n",
       "        1.24242449,  1.30303049,  1.36363649,  1.4242425 ,  1.4848485 ,\n",
       "        1.5454545 ,  1.60606098,  1.66666698,  1.72727299,  1.78787899,\n",
       "        1.84848499,  1.909091  ,  1.969697  ,  2.030303  ,  2.090909  ,\n",
       "        2.15151548,  2.21212149,  2.27272749,  2.33333349,  2.3939395 ,\n",
       "        2.4545455 ,  2.5151515 ,  2.57575798,  2.63636398,  2.69696999,\n",
       "        2.75757599,  2.81818199,  2.87878799,  2.939394  ,  3.        ], dtype=float32)"
      ]
     },
     "execution_count": 10,
     "metadata": {},
     "output_type": "execute_result"
    }
   ],
   "source": [
    "sess = tf.InteractiveSession()\n",
    "x.eval()"
   ]
  },
  {
   "cell_type": "code",
   "execution_count": 11,
   "metadata": {
    "collapsed": false
   },
   "outputs": [
    {
     "data": {
      "text/plain": [
       "tensorflow.python.framework.tensor_shape.TensorShape"
      ]
     },
     "execution_count": 11,
     "metadata": {},
     "output_type": "execute_result"
    }
   ],
   "source": [
    "type(x.get_shape())"
   ]
  },
  {
   "cell_type": "code",
   "execution_count": 12,
   "metadata": {
    "collapsed": true
   },
   "outputs": [],
   "source": [
    "sh = x.get_shape()"
   ]
  },
  {
   "cell_type": "code",
   "execution_count": 13,
   "metadata": {
    "collapsed": false
   },
   "outputs": [
    {
     "data": {
      "text/plain": [
       "[100]"
      ]
     },
     "execution_count": 13,
     "metadata": {},
     "output_type": "execute_result"
    }
   ],
   "source": [
    "sh.as_list()"
   ]
  },
  {
   "cell_type": "markdown",
   "metadata": {},
   "source": [
    "Now let's have some fun!\n",
    "Create a 1D Gaussian"
   ]
  },
  {
   "cell_type": "code",
   "execution_count": 14,
   "metadata": {
    "collapsed": false
   },
   "outputs": [
    {
     "name": "stderr",
     "output_type": "stream",
     "text": [
      "/mnt/data/tjonsson/pkgs/anaconda3/envs/Winter2017/lib/python2.7/site-packages/IPython/html.py:14: ShimWarning: The `IPython.html` package has been deprecated. You should import from `notebook` instead. `IPython.html.widgets` has moved to `ipywidgets`.\n",
      "  \"`IPython.html.widgets` has moved to `ipywidgets`.\", ShimWarning)\n"
     ]
    }
   ],
   "source": [
    "import numpy as np\n",
    "%matplotlib inline\n",
    "import matplotlib.pyplot as plt\n",
    "import seaborn as sns"
   ]
  },
  {
   "cell_type": "code",
   "execution_count": 15,
   "metadata": {
    "collapsed": true
   },
   "outputs": [],
   "source": [
    "\n",
    "# The 1 dimensional gaussian takes two parameters, the mean value, and the standard deviation, which is commonly denoted by the name sigma.\n",
    "mean = 0.0\n",
    "sigma = 1.0\n",
    "\n",
    "# Don't worry about trying to learn or remember this formula.  \n",
    "z = (tf.exp(tf.neg(tf.pow(x - mean, 2.0) /\n",
    "                   (2.0 * tf.pow(sigma, 2.0)))) *\n",
    "     (1.0 / (sigma * tf.sqrt(2.0 * np.pi))))"
   ]
  },
  {
   "cell_type": "code",
   "execution_count": 16,
   "metadata": {
    "collapsed": true
   },
   "outputs": [
    {
     "data": {
      "text/plain": [
       "[<matplotlib.lines.Line2D at 0x7f08b07c9dd0>]"
      ]
     },
     "execution_count": 16,
     "metadata": {},
     "output_type": "execute_result"
    },
    {
     "data": {
      "image/png": "[encoded data removed]",
      "text/plain": [
       "<matplotlib.figure.Figure at 0x7f08b0805b90>"
      ]
     },
     "metadata": {},
     "output_type": "display_data"
    }
   ],
   "source": [
    "res = z.eval()\n",
    "\n",
    "plt.plot(res)"
   ]
  },
  {
   "cell_type": "code",
   "execution_count": null,
   "metadata": {
    "collapsed": true
   },
   "outputs": [],
   "source": [
    "To get a k size Gaussian kernel of two dimension:"
   ]
  },
  {
   "cell_type": "code",
   "execution_count": 18,
   "metadata": {
    "collapsed": false
   },
   "outputs": [
    {
     "data": {
      "text/plain": [
       "[100]"
      ]
     },
     "execution_count": 18,
     "metadata": {},
     "output_type": "execute_result"
    }
   ],
   "source": [
    "# Rember this is the linspace dimension\n",
    "z.get_shape().as_list()"
   ]
  },
  {
   "cell_type": "code",
   "execution_count": 19,
   "metadata": {
    "collapsed": false
   },
   "outputs": [
    {
     "data": {
      "text/plain": [
       "<matplotlib.image.AxesImage at 0x7f08ac8815d0>"
      ]
     },
     "execution_count": 19,
     "metadata": {},
     "output_type": "execute_result"
    },
    {
     "data": {
      "image/png": "[encoded data removed]",
      "text/plain": [
       "<matplotlib.figure.Figure at 0x7f0a08093510>"
      ]
     },
     "metadata": {},
     "output_type": "display_data"
    }
   ],
   "source": [
    "# Let's store the number of values in our Gaussian curve.\n",
    "ksize = z.get_shape().as_list()[0]\n",
    "\n",
    "# Let's multiply the two to get a 2d gaussian\n",
    "z_2d = tf.matmul(tf.reshape(z, [ksize, 1]), tf.reshape(z, [1, ksize]))\n",
    "\n",
    "# Execute the graph\n",
    "plt.imshow(z_2d.eval())"
   ]
  },
  {
   "cell_type": "markdown",
   "metadata": {},
   "source": [
    "We would like to place Gaussians such as this one on body joint locations."
   ]
  },
  {
   "cell_type": "markdown",
   "metadata": {},
   "source": [
    "To do this we need first need to obtain a single example from the TFRecords representing the MPII dataset"
   ]
  },
  {
   "cell_type": "code",
   "execution_count": 23,
   "metadata": {
    "collapsed": true
   },
   "outputs": [],
   "source": [
    "from input_pipeline import setup_train_input_pipeline"
   ]
  },
  {
   "cell_type": "code",
   "execution_count": 35,
   "metadata": {
    "collapsed": false
   },
   "outputs": [
    {
     "ename": "ValueError",
     "evalue": "Tensor conversion requested dtype float64 for Tensor with dtype int32: 'Tensor(\"batch_processing/div:0\", shape=(3,), dtype=int32, device=/device:CPU:0)'",
     "output_type": "error",
     "traceback": [
      "\u001b[0;31m---------------------------------------------------------------------------\u001b[0m",
      "\u001b[0;31mValueError\u001b[0m                                Traceback (most recent call last)",
      "\u001b[0;32m<ipython-input-35-4ebdd08ec616>\u001b[0m in \u001b[0;36m<module>\u001b[0;34m()\u001b[0m\n\u001b[1;32m     12\u001b[0m                            \u001b[0mbatch_size\u001b[0m\u001b[0;34m,\u001b[0m\u001b[0;34m\u001b[0m\u001b[0m\n\u001b[1;32m     13\u001b[0m                            \u001b[0mnum_preprocess_threads\u001b[0m\u001b[0;34m,\u001b[0m\u001b[0;34m\u001b[0m\u001b[0m\n\u001b[0;32m---> 14\u001b[0;31m                            image_dim)\n\u001b[0m",
      "\u001b[0;32m/export/mlrg/tjonsson/Winter2017/HumanPoseEstimation/mcmaster-text-to-motion-database/tensorflow_models/human_pose_model/input_pipeline.py\u001b[0m in \u001b[0;36msetup_train_input_pipeline\u001b[0;34m(data_dir, num_readers, input_queue_memory_factor, batch_size, num_preprocess_threads, image_dim)\u001b[0m\n\u001b[1;32m    443\u001b[0m         images_and_joints = _parse_and_preprocess_images(\n\u001b[1;32m    444\u001b[0m             example_serialized, num_preprocess_threads, image_dim, True)\n\u001b[0;32m--> 445\u001b[0;31m \u001b[0;34m\u001b[0m\u001b[0m\n\u001b[0m\u001b[1;32m    446\u001b[0m         return _setup_batch_queue(images_and_joints,\n\u001b[1;32m    447\u001b[0m                                   \u001b[0mbatch_size\u001b[0m\u001b[0;34m,\u001b[0m\u001b[0;34m\u001b[0m\u001b[0m\n",
      "\u001b[0;32m/export/mlrg/tjonsson/Winter2017/HumanPoseEstimation/mcmaster-text-to-motion-database/tensorflow_models/human_pose_model/input_pipeline.py\u001b[0m in \u001b[0;36m_parse_and_preprocess_images\u001b[0;34m(example_serialized, num_preprocess_threads, image_dim, is_train)\u001b[0m\n\u001b[1;32m    304\u001b[0m             \u001b[0mhead_size\u001b[0m \u001b[0;34m=\u001b[0m \u001b[0;36m0\u001b[0m\u001b[0;34m\u001b[0m\u001b[0m\n\u001b[1;32m    305\u001b[0m             distorted_image, joint_indices, x_joints, y_joints = _distort_image(\n\u001b[0;32m--> 306\u001b[0;31m                 parsed_example, image_dim, thread_id)\n\u001b[0m\u001b[1;32m    307\u001b[0m         \u001b[0;32melse\u001b[0m\u001b[0;34m:\u001b[0m\u001b[0;34m\u001b[0m\u001b[0m\n\u001b[1;32m    308\u001b[0m             \u001b[0mdistorted_image\u001b[0m\u001b[0;34m,\u001b[0m \u001b[0mjoint_indices\u001b[0m\u001b[0;34m,\u001b[0m \u001b[0mx_joints\u001b[0m\u001b[0;34m,\u001b[0m \u001b[0my_joints\u001b[0m\u001b[0;34m,\u001b[0m \u001b[0mhead_size\u001b[0m \u001b[0;34m=\u001b[0m \u001b[0mparsed_example\u001b[0m\u001b[0;34m\u001b[0m\u001b[0m\n",
      "\u001b[0;32m/export/mlrg/tjonsson/Winter2017/HumanPoseEstimation/mcmaster-text-to-motion-database/tensorflow_models/human_pose_model/input_pipeline.py\u001b[0m in \u001b[0;36m_distort_image\u001b[0;34m(parsed_example, image_dim, thread_id)\u001b[0m\n\u001b[1;32m    252\u001b[0m                                                                \u001b[0my_joints\u001b[0m\u001b[0;34m,\u001b[0m\u001b[0;34m\u001b[0m\u001b[0m\n\u001b[1;32m    253\u001b[0m                                                                \u001b[0mimage_dim\u001b[0m\u001b[0;34m,\u001b[0m\u001b[0;34m\u001b[0m\u001b[0m\n\u001b[0;32m--> 254\u001b[0;31m                                                                thread_id)\n\u001b[0m\u001b[1;32m    255\u001b[0m \u001b[0;34m\u001b[0m\u001b[0m\n\u001b[1;32m    256\u001b[0m     rand_uniform = tf.random_uniform(shape=[],\n",
      "\u001b[0;32m/export/mlrg/tjonsson/Winter2017/HumanPoseEstimation/mcmaster-text-to-motion-database/tensorflow_models/human_pose_model/input_pipeline.py\u001b[0m in \u001b[0;36m_randomly_crop_image\u001b[0;34m(decoded_img, x_joints, y_joints, image_dim, thread_id)\u001b[0m\n\u001b[1;32m    208\u001b[0m         shape=[image_dim, image_dim, 3])\n\u001b[1;32m    209\u001b[0m \u001b[0;34m\u001b[0m\u001b[0m\n\u001b[0;32m--> 210\u001b[0;31m     \u001b[0mdistorted_center\u001b[0m \u001b[0;34m=\u001b[0m \u001b[0mtf\u001b[0m\u001b[0;34m.\u001b[0m\u001b[0mcast\u001b[0m\u001b[0;34m(\u001b[0m\u001b[0mbbox_begin\u001b[0m\u001b[0;34m,\u001b[0m \u001b[0mtf\u001b[0m\u001b[0;34m.\u001b[0m\u001b[0mfloat64\u001b[0m\u001b[0;34m)\u001b[0m \u001b[0;34m+\u001b[0m \u001b[0mbbox_size\u001b[0m\u001b[0;34m/\u001b[0m\u001b[0;36m2\u001b[0m\u001b[0;34m\u001b[0m\u001b[0m\n\u001b[0m\u001b[1;32m    211\u001b[0m \u001b[0;34m\u001b[0m\u001b[0m\n\u001b[1;32m    212\u001b[0m     \u001b[0mdistorted_center_y\u001b[0m \u001b[0;34m=\u001b[0m \u001b[0mdistorted_center\u001b[0m\u001b[0;34m[\u001b[0m\u001b[0;36m0\u001b[0m\u001b[0;34m]\u001b[0m\u001b[0;34m\u001b[0m\u001b[0m\n",
      "\u001b[0;32m/mnt/data/tjonsson/pkgs/anaconda3/envs/Winter2017/lib/python2.7/site-packages/tensorflow/python/ops/math_ops.pyc\u001b[0m in \u001b[0;36mbinary_op_wrapper\u001b[0;34m(x, y)\u001b[0m\n\u001b[1;32m    811\u001b[0m     \u001b[0;32mwith\u001b[0m \u001b[0mops\u001b[0m\u001b[0;34m.\u001b[0m\u001b[0mname_scope\u001b[0m\u001b[0;34m(\u001b[0m\u001b[0mNone\u001b[0m\u001b[0;34m,\u001b[0m \u001b[0mop_name\u001b[0m\u001b[0;34m,\u001b[0m \u001b[0;34m[\u001b[0m\u001b[0mx\u001b[0m\u001b[0;34m,\u001b[0m \u001b[0my\u001b[0m\u001b[0;34m]\u001b[0m\u001b[0;34m)\u001b[0m \u001b[0;32mas\u001b[0m \u001b[0mname\u001b[0m\u001b[0;34m:\u001b[0m\u001b[0;34m\u001b[0m\u001b[0m\n\u001b[1;32m    812\u001b[0m       \u001b[0;32mif\u001b[0m \u001b[0;32mnot\u001b[0m \u001b[0misinstance\u001b[0m\u001b[0;34m(\u001b[0m\u001b[0my\u001b[0m\u001b[0;34m,\u001b[0m \u001b[0msparse_tensor\u001b[0m\u001b[0;34m.\u001b[0m\u001b[0mSparseTensor\u001b[0m\u001b[0;34m)\u001b[0m\u001b[0;34m:\u001b[0m\u001b[0;34m\u001b[0m\u001b[0m\n\u001b[0;32m--> 813\u001b[0;31m         \u001b[0my\u001b[0m \u001b[0;34m=\u001b[0m \u001b[0mops\u001b[0m\u001b[0;34m.\u001b[0m\u001b[0mconvert_to_tensor\u001b[0m\u001b[0;34m(\u001b[0m\u001b[0my\u001b[0m\u001b[0;34m,\u001b[0m \u001b[0mdtype\u001b[0m\u001b[0;34m=\u001b[0m\u001b[0mx\u001b[0m\u001b[0;34m.\u001b[0m\u001b[0mdtype\u001b[0m\u001b[0;34m.\u001b[0m\u001b[0mbase_dtype\u001b[0m\u001b[0;34m,\u001b[0m \u001b[0mname\u001b[0m\u001b[0;34m=\u001b[0m\u001b[0;34m\"y\"\u001b[0m\u001b[0;34m)\u001b[0m\u001b[0;34m\u001b[0m\u001b[0m\n\u001b[0m\u001b[1;32m    814\u001b[0m       \u001b[0;32mreturn\u001b[0m \u001b[0mfunc\u001b[0m\u001b[0;34m(\u001b[0m\u001b[0mx\u001b[0m\u001b[0;34m,\u001b[0m \u001b[0my\u001b[0m\u001b[0;34m,\u001b[0m \u001b[0mname\u001b[0m\u001b[0;34m=\u001b[0m\u001b[0mname\u001b[0m\u001b[0;34m)\u001b[0m\u001b[0;34m\u001b[0m\u001b[0m\n\u001b[1;32m    815\u001b[0m \u001b[0;34m\u001b[0m\u001b[0m\n",
      "\u001b[0;32m/mnt/data/tjonsson/pkgs/anaconda3/envs/Winter2017/lib/python2.7/site-packages/tensorflow/python/framework/ops.pyc\u001b[0m in \u001b[0;36mconvert_to_tensor\u001b[0;34m(value, dtype, name, as_ref, preferred_dtype)\u001b[0m\n\u001b[1;32m    667\u001b[0m \u001b[0;34m\u001b[0m\u001b[0m\n\u001b[1;32m    668\u001b[0m         \u001b[0;32mif\u001b[0m \u001b[0mret\u001b[0m \u001b[0;32mis\u001b[0m \u001b[0mNone\u001b[0m\u001b[0;34m:\u001b[0m\u001b[0;34m\u001b[0m\u001b[0m\n\u001b[0;32m--> 669\u001b[0;31m           \u001b[0mret\u001b[0m \u001b[0;34m=\u001b[0m \u001b[0mconversion_func\u001b[0m\u001b[0;34m(\u001b[0m\u001b[0mvalue\u001b[0m\u001b[0;34m,\u001b[0m \u001b[0mdtype\u001b[0m\u001b[0;34m=\u001b[0m\u001b[0mdtype\u001b[0m\u001b[0;34m,\u001b[0m \u001b[0mname\u001b[0m\u001b[0;34m=\u001b[0m\u001b[0mname\u001b[0m\u001b[0;34m,\u001b[0m \u001b[0mas_ref\u001b[0m\u001b[0;34m=\u001b[0m\u001b[0mas_ref\u001b[0m\u001b[0;34m)\u001b[0m\u001b[0;34m\u001b[0m\u001b[0m\n\u001b[0m\u001b[1;32m    670\u001b[0m \u001b[0;34m\u001b[0m\u001b[0m\n\u001b[1;32m    671\u001b[0m         \u001b[0;32mif\u001b[0m \u001b[0mret\u001b[0m \u001b[0;32mis\u001b[0m \u001b[0mNotImplemented\u001b[0m\u001b[0;34m:\u001b[0m\u001b[0;34m\u001b[0m\u001b[0m\n",
      "\u001b[0;32m/mnt/data/tjonsson/pkgs/anaconda3/envs/Winter2017/lib/python2.7/site-packages/tensorflow/python/framework/ops.pyc\u001b[0m in \u001b[0;36m_TensorTensorConversionFunction\u001b[0;34m(t, dtype, name, as_ref)\u001b[0m\n\u001b[1;32m    581\u001b[0m     raise ValueError(\n\u001b[1;32m    582\u001b[0m         \u001b[0;34m\"Tensor conversion requested dtype %s for Tensor with dtype %s: %r\"\u001b[0m\u001b[0;34m\u001b[0m\u001b[0m\n\u001b[0;32m--> 583\u001b[0;31m         % (dtype.name, t.dtype.name, str(t)))\n\u001b[0m\u001b[1;32m    584\u001b[0m   \u001b[0;32mreturn\u001b[0m \u001b[0mt\u001b[0m\u001b[0;34m\u001b[0m\u001b[0m\n\u001b[1;32m    585\u001b[0m \u001b[0;34m\u001b[0m\u001b[0m\n",
      "\u001b[0;31mValueError\u001b[0m: Tensor conversion requested dtype float64 for Tensor with dtype int32: 'Tensor(\"batch_processing/div:0\", shape=(3,), dtype=int32, device=/device:CPU:0)'"
     ]
    }
   ],
   "source": [
    "data_dir = './train' # Path to tfrecords files\n",
    "num_readers = 4 # number of threads to use for reading examples\n",
    "input_queue_memory_factor = 16 # Factor which decides the number of minimum examples in RandomShuffleQueue\n",
    "batch_size = 32 # Only for demonstration\n",
    "num_preprocess_threads = 4 # number of preprocessing threads used\n",
    "image_dim = 299 # Same number of pixels as in Bulat\n",
    "with tf.Graph().as_default():\n",
    "    with tf.device('/cpu:0'):\n",
    "        example=setup_train_input_pipeline(data_dir,\n",
    "                           num_readers,\n",
    "                           input_queue_memory_factor,\n",
    "                           batch_size,\n",
    "                           num_preprocess_threads,\n",
    "                           image_dim)"
   ]
  },
  {
   "cell_type": "code",
   "execution_count": null,
   "metadata": {
    "collapsed": true
   },
   "outputs": [],
   "source": []
  }
 ],
 "metadata": {
  "kernelspec": {
   "display_name": "Python [Winter2017]",
   "language": "python",
   "name": "Python [Winter2017]"
  },
  "language_info": {
   "codemirror_mode": {
    "name": "ipython",
    "version": 2
   },
   "file_extension": ".py",
   "mimetype": "text/x-python",
   "name": "python",
   "nbconvert_exporter": "python",
   "pygments_lexer": "ipython2",
   "version": "2.7.13"
  }
 },
 "nbformat": 4,
 "nbformat_minor": 0
}
